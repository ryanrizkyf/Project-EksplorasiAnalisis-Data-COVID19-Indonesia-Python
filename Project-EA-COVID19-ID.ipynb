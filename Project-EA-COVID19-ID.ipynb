{
 "cells": [
  {
   "cell_type": "code",
   "execution_count": 1,
   "metadata": {},
   "outputs": [],
   "source": [
    "# Mengakses API covid19.go.id\n",
    "\n",
    "# Rekapitulasi data COVID-19 Indonesia tersedia dalam API publik yang beralamat di \n",
    "# https://data.covid19.go.id/public/api/update.json.\n",
    "\n",
    "# Salah satu cara untuk mengakses API adalah dengan menggunakan fungsi get() dari library requests.\n",
    "\n",
    "# Sekarang aktifkanlah library requests dan jalankan fungsi get() pada alamat API yang telah disebutkan! \n",
    "# Simpan hasil fungsi tersebut dalam obyek bernama resp.\n",
    "\n",
    "import requests\n",
    "resp = requests.get('https://data.covid19.go.id/public/api/update.json')\n",
    "\n",
    "# Saat Anda menjalankan fungsi get(), pada dasarnya hal yang terjadi adalah Anda membuat sebuah permintaan kepada server penyedia API. \n",
    "# Permintaan Anda tersebut selanjutnya diproses dan dijawab oleh server sebagai sebuah respon. \n",
    "# Objek resp yang telah Anda buat memiliki informasi respon oleh server.\n",
    "\n",
    "# Ada tiga informasi utama dalam sebuah respon API, yaitu status, headers, dan body. \n",
    "# Status memiliki informasi apakah permintaan Anda berhasil atau tidak dan dinyatakan dalam status code, \n",
    "# headers umumnya mengandung informasi metadata, sedangkan body berisikan konten atas permintaan yang telah dibuat."
   ]
  },
  {
   "cell_type": "code",
   "execution_count": 2,
   "metadata": {},
   "outputs": [
    {
     "name": "stdout",
     "output_type": "stream",
     "text": [
      "<Response [200]>\n"
     ]
    }
   ],
   "source": [
    "# Status Code\n",
    "\n",
    "# Ada beberapa jenis status code yang umumnya dijumpai, antara lain:\n",
    "\n",
    "# 200 Artinya permintaan sukses dipenuhi.\n",
    "# 404 Artinya berkas yang diminta tidak dapat ditemukan.\n",
    "# 500 Artinya akses permintaan ditolak.\n",
    "# 501 Artinya terjadi kesalahan pada server.\n",
    "\n",
    "# Informasi lengkap mengenai jenis-jenis status code dapat Anda pelajari di https://restfulapi.net/http-status-codes/\n",
    "\n",
    "# Anda dapat mencetak resp secara langsung yang telah memberikan output status atas permintaan Anda melalui API. \n",
    "# Sekarang coba lihatlah status atas permintaan yang telah Anda buat! Apakah permintaan Anda berhasil?\n",
    "\n",
    "print(resp)"
   ]
  },
  {
   "cell_type": "code",
   "execution_count": 3,
   "metadata": {},
   "outputs": [
    {
     "name": "stdout",
     "output_type": "stream",
     "text": [
      "{'Server': 'nginx', 'Date': 'Wed, 03 Mar 2021 10:59:05 GMT', 'Content-Type': 'application/json', 'Transfer-Encoding': 'chunked', 'Connection': 'keep-alive', 'Vary': 'Accept-Encoding, Accept-Encoding', 'Last-Modified': 'Wed, 03 Mar 2021 10:55:01 GMT', 'ETag': 'W/\"603f6b05-2272b\"', 'X-Content-Type-Options': 'nosniff, nosniff', 'X-XSS-Protection': '1; mode=block, 1; mode=block', 'Strict-Transport-Security': 'max-age=31536000; includeSubDomains; preload', 'Content-Encoding': 'gzip'}\n"
     ]
    }
   ],
   "source": [
    "# Headers API\n",
    "\n",
    "# Selamat status permintaan Anda melalui API sukses dipenuhi! \n",
    "#Sekarang cobalah Anda jalankan attribut headers pada resp untuk mengetahui metadata apa saja yang tersimpan. \n",
    "# Tampilkan dengan menggunakan fungsi print. \n",
    "\n",
    "# Apakah isi dari elemen content-type?\n",
    "# Kapan terakhir kali informasi diperbaharui?\n",
    "\n",
    "print(resp.headers)"
   ]
  },
  {
   "cell_type": "code",
   "execution_count": 4,
   "metadata": {},
   "outputs": [],
   "source": [
    "# Mengekstrak Isi Respon\n",
    "\n",
    "# Respon API dengan status code 200 menyatakan bahwa permintaan Anda berhasil dipenuhi dan konten yang diminta tersedia untuk diekstrak. \n",
    "# Selain itu Anda juga telah mengetahui lewat attribut headers bahwa konten yang diminta tersedia dalam bentuk application/json, yaitu berkas JSON.\n",
    "\n",
    "# Selanjutnya Anda dapat mengekstrak konten tersebut dengan menggunakan method json(). \n",
    "# Method json() merupakan builtin JSON decoder untuk mengekstrak content bertipe JSON. \n",
    "# Anda juga dapat menggunakan attribut content tetapi ini berupa binary content yang perlu Anda proses kembali nantinya. \n",
    "# Jalankan method json() pada obyek resp dan simpanlah hasilnya sebagai cov_id_raw!\n",
    "\n",
    "# cov_id_raw ini bertipe data dict.\n",
    "\n",
    "cov_id_raw = resp.json()"
   ]
  },
  {
   "cell_type": "code",
   "execution_count": 5,
   "metadata": {},
   "outputs": [
    {
     "name": "stdout",
     "output_type": "stream",
     "text": [
      "Length of cov_id_raw : 2.\n",
      "Komponen cov_id_raw  : dict_keys(['data', 'update']).\n"
     ]
    }
   ],
   "source": [
    "# Mengekstrak isi Respon - 2\n",
    "\n",
    "# Dengan menggunakan fungsi len() dan method keys() cobalah amati ada berapa komponen serta apa saja nama komponen dalam obyek cov_id_raw tersebut! \n",
    "# Kemudian ekstraklah key ke-2 dan simpan dengan nama cov_id_update.\n",
    "\n",
    "print('Length of cov_id_raw : %d.' %len(cov_id_raw))\n",
    "print('Komponen cov_id_raw  : %s.' %cov_id_raw.keys())\n",
    "cov_id_update = cov_id_raw['update']"
   ]
  },
  {
   "cell_type": "code",
   "execution_count": 6,
   "metadata": {},
   "outputs": [
    {
     "name": "stdout",
     "output_type": "stream",
     "text": [
      "Tanggal pembaharuan data penambahan kasus   : 2021-03-03\n",
      "Jumlah penambahan kasus sembuh   : 9053\n",
      "Jumlah penambahan kasus meninggal   : 203\n",
      "Jumlah total kasus positif hingga saat ini   : 1353834\n",
      "Jumlah total kasus meninggal hingga saat ini  : 36721\n"
     ]
    }
   ],
   "source": [
    "# Analisa Data\n",
    "\n",
    "# Sekarang Anda diminta untuk fokus pada obyek cov_id_update untuk menjawab pertanyaan-pertanyaan berikut:\n",
    "\n",
    "# Kapan tanggal pembaharuan data penambahan kasus?\n",
    "# Berapa jumlah penambahan kasus sembuh?\n",
    "# Berapa jumlah penambahan kasus meninggal?\n",
    "# Berapa jumlah total kasus positif hingga saat ini?\n",
    "# Berapa jumlah total kasus meninggal hingga saat ini?\n",
    "\n",
    "print('Tanggal pembaharuan data penambahan kasus   :', cov_id_update['penambahan']['tanggal'])\n",
    "print('Jumlah penambahan kasus sembuh   :', cov_id_update['penambahan']['jumlah_sembuh'])\n",
    "print('Jumlah penambahan kasus meninggal   :', cov_id_update['penambahan']['jumlah_meninggal'])\n",
    "print('Jumlah total kasus positif hingga saat ini   :', cov_id_update['total']['jumlah_positif'])\n",
    "print('Jumlah total kasus meninggal hingga saat ini  :', cov_id_update['total']['jumlah_meninggal'])"
   ]
  },
  {
   "cell_type": "code",
   "execution_count": 7,
   "metadata": {},
   "outputs": [],
   "source": [
    "# Apa Kabar Jawa Barat?\n",
    "\n",
    "# Anda telah berhasil menjawab pertanyaan mengenai kondisi COVID-19 di Indonesia dengan menggunakan data yang langsung diambil menggunakan API. \n",
    "# Namun bagaimana jika Anda ingin berfokus dengan data COVID-19 di provinsi tempat menetap saat ini?\n",
    "\n",
    "# covid19.go.id menyediakan data kasus COVID-19 tingkat provinsi di alamat API yang berbeda. \n",
    "# Sebagai data mengenai COVID-19 Jawa Barat, tempat tinggal saya sekarang, tersedia di \n",
    "# https://data.covid19.go.id/public/api/prov_detail_JAWA_BARAT.json.\n",
    "\n",
    "import requests\n",
    "resp_jabar = requests.get('https://data.covid19.go.id/public/api/prov_detail_JAWA_BARAT.json')\n",
    "cov_jabar_raw = resp_jabar.json()"
   ]
  },
  {
   "cell_type": "code",
   "execution_count": 8,
   "metadata": {},
   "outputs": [
    {
     "name": "stdout",
     "output_type": "stream",
     "text": [
      "Nama-nama elemen utama:\n",
      " dict_keys(['last_date', 'provinsi', 'kasus_total', 'kasus_tanpa_tgl', 'kasus_dengan_tgl', 'meninggal_persen', 'meninggal_tanpa_tgl', 'meninggal_dengan_tgl', 'sembuh_persen', 'sembuh_tanpa_tgl', 'sembuh_dengan_tgl', 'list_perkembangan', 'data'])\n",
      "\n",
      "Jumlah total kasus COVID-19 di Jawa Barat                 : 211212\n",
      "Persentase kematian akibat COVID-19 di Jawa Barat         : 1.117834.2%\n",
      "Persentase tingkat kesembuhan dari COVID-19 di Jawa Barat : 81.458913.2%\n"
     ]
    }
   ],
   "source": [
    "# Memahami Kasus COVID-19 di Jawa Barat\n",
    "\n",
    "# Sekarang jalankanlah method keys() pada cov_jabar_raw tersebut untuk mengetahui nama-nama elemen utama yang tersedia dan jawablah pertanyaan berikut:\n",
    "\n",
    "# Berapa jumlah total kasus COVID-19 di Jawa Barat?\n",
    "# Berapa persentase kematian akibat COVID-19 di Jawa Barat?\n",
    "# Berapa persentase tingkat kesembuhan dari COVID-19 di Jawa Barat?\n",
    "\n",
    "print('Nama-nama elemen utama:\\n', cov_jabar_raw.keys())\n",
    "print('\\nJumlah total kasus COVID-19 di Jawa Barat                 : %d' %cov_jabar_raw['kasus_total'])\n",
    "print('Persentase kematian akibat COVID-19 di Jawa Barat         : %f.2%%' %cov_jabar_raw['meninggal_persen'])\n",
    "print('Persentase tingkat kesembuhan dari COVID-19 di Jawa Barat : %f.2%%' %cov_jabar_raw['sembuh_persen'])"
   ]
  },
  {
   "cell_type": "code",
   "execution_count": 9,
   "metadata": {},
   "outputs": [
    {
     "name": "stdout",
     "output_type": "stream",
     "text": [
      "<class 'pandas.core.frame.DataFrame'>\n",
      "RangeIndex: 364 entries, 0 to 363\n",
      "Data columns (total 9 columns):\n",
      " #   Column                        Non-Null Count  Dtype\n",
      "---  ------                        --------------  -----\n",
      " 0   tanggal                       364 non-null    int64\n",
      " 1   KASUS                         364 non-null    int64\n",
      " 2   MENINGGAL                     364 non-null    int64\n",
      " 3   SEMBUH                        364 non-null    int64\n",
      " 4   DIRAWAT_OR_ISOLASI            364 non-null    int64\n",
      " 5   AKUMULASI_KASUS               364 non-null    int64\n",
      " 6   AKUMULASI_SEMBUH              364 non-null    int64\n",
      " 7   AKUMULASI_MENINGGAL           364 non-null    int64\n",
      " 8   AKUMULASI_DIRAWAT_OR_ISOLASI  364 non-null    int64\n",
      "dtypes: int64(9)\n",
      "memory usage: 25.7 KB\n",
      "Info cov_jabar:\n",
      " None\n",
      "\n",
      "Lima data teratas cov_jabar:\n",
      "          tanggal  KASUS  MENINGGAL  SEMBUH  DIRAWAT_OR_ISOLASI  \\\n",
      "0  1583107200000      3          0       0                   3   \n",
      "1  1583193600000      1          1       0                   0   \n",
      "2  1583280000000      1          0       0                   1   \n",
      "3  1583366400000      1          0       0                   1   \n",
      "4  1583452800000      1          0       0                   1   \n",
      "\n",
      "   AKUMULASI_KASUS  AKUMULASI_SEMBUH  AKUMULASI_MENINGGAL  \\\n",
      "0                3                 0                    0   \n",
      "1                4                 0                    1   \n",
      "2                5                 0                    1   \n",
      "3                6                 0                    1   \n",
      "4                7                 0                    1   \n",
      "\n",
      "   AKUMULASI_DIRAWAT_OR_ISOLASI  \n",
      "0                             3  \n",
      "1                             3  \n",
      "2                             4  \n",
      "3                             5  \n",
      "4                             6  \n"
     ]
    }
   ],
   "source": [
    "# Memperoleh Informasi yang Lebih Lengkap\n",
    "\n",
    "# Informasi umum mengenai COVID-19 di Jawa Barat telah Anda dapatkan. \n",
    "# Namun informasi akan lebih lengkap jika Anda memiliki data perkembangan COVID-19 dari waktu ke waktu, apakah Anda setuju?\n",
    "\n",
    "# Kabar baiknya adalah informasi tersebut juga disediakan oleh covid19.go.id melalui permintaan API yang telah Anda buat sebelumnya. \n",
    "# Data historis perkembangan COVID-19 tersebut tersimpan dengan nama list_perkembangan. \n",
    "# Silakan Anda ekstrak data tersebut dari cov_jabar_raw dan untuk lebih memudahkan dalam menginspeksi data ubahlah data bertipe dict ke pandas dataframe. \n",
    "# Kemudian simpanlah hasilnya sebagai obyek bernama cov_jabar! Amati struktur cov_jabar menggunakan method info() dan head().\n",
    "\n",
    "import numpy as np\n",
    "import pandas as pd\n",
    "cov_jabar = pd.DataFrame(cov_jabar_raw['list_perkembangan'])\n",
    "print('Info cov_jabar:\\n', cov_jabar.info())\n",
    "print('\\nLima data teratas cov_jabar:\\n', cov_jabar.head())"
   ]
  },
  {
   "cell_type": "code",
   "execution_count": 10,
   "metadata": {},
   "outputs": [
    {
     "name": "stdout",
     "output_type": "stream",
     "text": [
      "Lima data teratas:\n",
      "      tanggal  kasus_baru  meninggal  sembuh\n",
      "0 2020-03-02           3          0       0\n",
      "1 2020-03-03           1          1       0\n",
      "2 2020-03-04           1          0       0\n",
      "3 2020-03-05           1          0       0\n",
      "4 2020-03-06           1          0       0\n"
     ]
    }
   ],
   "source": [
    "# Menjinakkan Data\n",
    "\n",
    "# Setelah mengekstrak dan mengamati cov_jabar, Anda menemukan beberapa kejanggalan pada data tersebut. \n",
    "# Diantaranya adalah kejanggalan data pada kolom tanggal dan format penulisan kolom yang tidak konsisten. \n",
    "# Sekarang Anda akan mencoba melakukan beberapa tahapan untuk menjinakan data tersebut sehingga dapat diolah dan dianalisis dengan lebih mudah.\n",
    "\n",
    "# Ada beberapa tahapan yang akan Anda lakukan untuk menjinakan data cov_jabar, yaitu:\n",
    "\n",
    "# Menghapus kolom DIRAWAT_OR_ISOLASI dan semua kolom yang berisi nilai kumulatif\n",
    "# Merubah format penulisan semua kolom menjadi huruf kecil\n",
    "# Mengganti nama kolom kasus menjadi kasus_baru\n",
    "# Memperbaiki tipe data pada kolom tanggal menggunakan pd.to_datetime\n",
    "\n",
    "# Lengkapilah baris kode berikut untuk melakukan menjinakan data sesuai dengan tahapan yang telah Anda rencanakan! \n",
    "# Anda akan menggunakan teknik chaining pada dataframe. \n",
    "# Simpan hasil pengolahan Anda dengan nama cov_jabar_tidy.\n",
    "\n",
    "cov_jabar_tidy = (cov_jabar.drop(columns=[item for item in cov_jabar.columns \n",
    "                                               if item.startswith('AKUMULASI') \n",
    "                                                  or item.startswith('DIRAWAT')])\n",
    "                           .rename(columns=str.lower)\n",
    "                           .rename(columns={'kasus': 'kasus_baru'})\n",
    "                  )\n",
    "cov_jabar_tidy['tanggal'] = pd.to_datetime(cov_jabar_tidy['tanggal']*1e6, unit='ns')\n",
    "print('Lima data teratas:\\n', cov_jabar_tidy.head())"
   ]
  },
  {
   "cell_type": "code",
   "execution_count": 11,
   "metadata": {},
   "outputs": [
    {
     "data": {
      "text/plain": [
       "<Figure size 432x288 with 0 Axes>"
      ]
     },
     "metadata": {},
     "output_type": "display_data"
    },
    {
     "data": {
      "image/png": "[encoded data removed]",
      "text/plain": [
       "<Figure size 720x360 with 1 Axes>"
      ]
     },
     "metadata": {
      "needs_background": "light"
     },
     "output_type": "display_data"
    }
   ],
   "source": [
    "# Menunjukkan Melalui Gambar\n",
    "\n",
    "# Akhirnya Anda berhasil menjinakan data cov_jabar menjadi cov_jabar_tidy sehingga lebih mudah untuk diolah, selamat! \n",
    "# Memiliki data yang rapi memang menyenangkan, apakah Anda setuju dengan hal tersebut?\n",
    "\n",
    "# Setelah memiliki data yang jinak, sekarang saatnya Anda mengekspresikan data tersebut dalam bentuk lain yang harapannya lebih mudah dicerna: grafik. \n",
    "# Anda akan memulai merancang visualisasi yang memiliki estetika dengan menggunakan library matplotlib. \n",
    "# Imporlah library tersebut sebagai aliasnya!\n",
    "\n",
    "import matplotlib.pyplot as plt\n",
    "\n",
    "# Berikut merupakan template kode untuk membuat visualisasi menggunakan matplotlib:\n",
    "# fig, ax = plt.subplots(figsize=(..., ...))\n",
    "# ax.jenis_plot(..., ..., data=...)\n",
    "\n",
    "# Berdasarkan templat tersebut, komponen utama untuk membuat visualisasi antara lain adalah tabel data, kolom data, serta bentuk geometri untuk mempresentasikan data. \n",
    "# Sebagai contoh untuk membuat scatter-plot yang diperlukan adalah bentuk geometri titik (.scatter()), \n",
    "# line-chart memerlukan geometri garis (.plot()), sedangkan bar-chart memerlukan bentuk geometri batang atau kolom (.bar()).\n",
    "\n",
    "# Lengkapi baris kode berikut untuk membuat bar-chart jumlah kasus baru harian COVID-19 di Jawa Barat menggunakan data cov_jabar_tidy! \n",
    "# Pergunakan kolom tanggal sebagai sumbu-x.\n",
    "\n",
    "plt.clf()\n",
    "fig, ax = plt.subplots(figsize=(10,5))\n",
    "ax.bar(data=cov_jabar_tidy, x='tanggal', height='kasus_baru')\n",
    "plt.show()"
   ]
  },
  {
   "cell_type": "code",
   "execution_count": 12,
   "metadata": {},
   "outputs": [
    {
     "data": {
      "text/plain": [
       "<Figure size 432x288 with 0 Axes>"
      ]
     },
     "metadata": {},
     "output_type": "display_data"
    },
    {
     "data": {
      "image/png": "[encoded data removed]",
      "text/plain": [
       "<Figure size 720x360 with 1 Axes>"
      ]
     },
     "metadata": {
      "needs_background": "light"
     },
     "output_type": "display_data"
    }
   ],
   "source": [
    "# Informasi pada Grafik\n",
    "\n",
    "# Anda telah berhasil membuat bar-chart yang diminta. \n",
    "# Namun grafik tersebut belum memiliki informasi yang jelas serta cenderung membosankan untuk dilihat.\n",
    "\n",
    "import matplotlib.pyplot as plt\n",
    "import matplotlib.dates as mdates\n",
    "\n",
    "plt.clf()\n",
    "fig, ax = plt.subplots(figsize=(10,5))\n",
    "ax.bar(data=cov_jabar_tidy, x='tanggal', height='kasus_baru', color='salmon')\n",
    "fig.suptitle('Kasus Harian Positif COVID-19 di Jawa Barat', \n",
    "             y=1.00, fontsize=16, fontweight='bold', ha='center')\n",
    "ax.set_title('Terjadi pelonjakan kasus di awal bulan Juli akibat klaster Secapa AD Bandung',\n",
    "             fontsize=10)\n",
    "ax.set_xlabel('')\n",
    "ax.set_ylabel('Jumlah Kasus')\n",
    "ax.text(1, -0.1, 'Sumber data: covid.19.go.id', color='blue',\n",
    "        ha='right', transform=ax.transAxes)\n",
    "\n",
    "ax.xaxis.set_major_locator(mdates.MonthLocator())\n",
    "ax.xaxis.set_major_formatter(mdates.DateFormatter('%b %Y'))\n",
    "\n",
    "plt.grid(axis='y')\n",
    "plt.tight_layout()\n",
    "plt.show()"
   ]
  },
  {
   "cell_type": "code",
   "execution_count": 13,
   "metadata": {},
   "outputs": [
    {
     "data": {
      "text/plain": [
       "<Figure size 432x288 with 0 Axes>"
      ]
     },
     "metadata": {},
     "output_type": "display_data"
    },
    {
     "data": {
      "image/png": "[encoded data removed]",
      "text/plain": [
       "<Figure size 720x360 with 1 Axes>"
      ]
     },
     "metadata": {
      "needs_background": "light"
     },
     "output_type": "display_data"
    }
   ],
   "source": [
    "# Grafik untuk Kasus Sembuh\n",
    "\n",
    "# Sekarang buatlah grafik serupa dengan menggunakan data kasus sembuh menggunakan warna olivedrab!\n",
    "\n",
    "import matplotlib.pyplot as plt\n",
    "import matplotlib.dates as mdates\n",
    "\n",
    "plt.clf()\n",
    "fig, ax = plt.subplots(figsize=(10,5))\n",
    "ax.bar(data=cov_jabar_tidy, x='tanggal', height='sembuh', color='olivedrab')\n",
    "ax.set_title('Kasus Harian Sembuh Dari COVID-19 di Jawa Barat',\n",
    "             fontsize=22)\n",
    "ax.set_xlabel('')\n",
    "ax.set_ylabel('Jumlah Kasus')\n",
    "ax.text(1, -0.1, 'Sumber data: covid.19.go.id', color='blue',\n",
    "        ha='right', transform=ax.transAxes)\n",
    "\n",
    "ax.xaxis.set_major_locator(mdates.MonthLocator())\n",
    "ax.xaxis.set_major_formatter(mdates.DateFormatter('%b %Y'))\n",
    "\n",
    "plt.grid(axis='y')\n",
    "plt.tight_layout()\n",
    "plt.show()"
   ]
  },
  {
   "cell_type": "code",
   "execution_count": 14,
   "metadata": {},
   "outputs": [
    {
     "data": {
      "text/plain": [
       "<Figure size 432x288 with 0 Axes>"
      ]
     },
     "metadata": {},
     "output_type": "display_data"
    },
    {
     "data": {
      "image/png": "[encoded data removed]",
      "text/plain": [
       "<Figure size 720x360 with 1 Axes>"
      ]
     },
     "metadata": {
      "needs_background": "light"
     },
     "output_type": "display_data"
    }
   ],
   "source": [
    "# Grafik untuk Kasus Meninggal\n",
    "\n",
    "# Sekarang buatlah grafik serupa dengan menggunakan data kasus meninggal menggunakan warna slategrey!\n",
    "\n",
    "import matplotlib.pyplot as plt\n",
    "import matplotlib.dates as mdates\n",
    "\n",
    "plt.clf()\n",
    "fig, ax = plt.subplots(figsize=(10,5))\n",
    "ax.bar(data=cov_jabar_tidy, x='tanggal', height='meninggal', color='slategrey')\n",
    "ax.set_title('Kasus Harian Meninggal Dari COVID-19 di Jawa Barat',\n",
    "             fontsize=22)\n",
    "ax.set_xlabel('')\n",
    "ax.set_ylabel('Jumlah Kasus')\n",
    "ax.text(1, -0.1, 'Sumber data: covid.19.go.id', color='blue',\n",
    "        ha='right', transform=ax.transAxes)\n",
    "\n",
    "ax.xaxis.set_major_locator(mdates.MonthLocator())\n",
    "ax.xaxis.set_major_formatter(mdates.DateFormatter('%b %Y'))\n",
    "\n",
    "plt.grid(axis='y')\n",
    "plt.tight_layout()\n",
    "plt.show()"
   ]
  },
  {
   "cell_type": "code",
   "execution_count": 15,
   "metadata": {},
   "outputs": [
    {
     "name": "stdout",
     "output_type": "stream",
     "text": [
      "Info cov_jabar_pekanan:\n",
      "<class 'pandas.core.frame.DataFrame'>\n",
      "RangeIndex: 52 entries, 0 to 51\n",
      "Data columns (total 3 columns):\n",
      " #   Column    Non-Null Count  Dtype\n",
      "---  ------    --------------  -----\n",
      " 0   tahun     52 non-null     int64\n",
      " 1   pekan_ke  52 non-null     int64\n",
      " 2   jumlah    52 non-null     int64\n",
      "dtypes: int64(3)\n",
      "memory usage: 1.3 KB\n",
      "None\n",
      "\n",
      "Lima data teratas cov_jabar_pekanan:\n",
      "    tahun  pekan_ke  jumlah\n",
      "0   2020        10       7\n",
      "1   2020        11       5\n",
      "2   2020        12      52\n",
      "3   2020        13     104\n",
      "4   2020        14     122\n"
     ]
    }
   ],
   "source": [
    "# Apakah Pekan ini Lebih Baik?\n",
    "\n",
    "# Setelah mengamati grafik perkembangan kasus Anda menyadari bahwa terjadi fluktuasi pertambahan kasus harian. \n",
    "# Dilandasi hal tersebut Anda kemudian ingin mencoba mengamati bagaimana perkembangan kasus dalam rentang waktu pekanan. \n",
    "# Bagaimanakah caranya?\n",
    "\n",
    "# Anda dapat dengan mudah mengerjakannya, Anda sudah dibantu melalui predefined code, \n",
    "# yaitu set terlebih dahulu kolom tanggal pada cov_jabar_tidy sebagai index. \n",
    "# Kemudian terapkan method pada time series di pandas, resampling per pekan dan gunakan agregasi penjumlahan. \n",
    "# Adapun yang akan digunakan untuk mengekstrak informasi pekan dalam satu tahun adalah weekofyear dan year untuk tahun.\n",
    "\n",
    "# Lengkapilah baris kode berikut untuk menghitung pertambahan kasus pekanan dan simpanlah hasilnya sebagai cov_jabar_pekanan! \n",
    "# Anda juga diminta untuk menggunakan method info() dan .head() untuk melakukan inspeksi data.\n",
    "\n",
    "cov_jabar_pekanan = (cov_jabar_tidy.set_index('tanggal')['kasus_baru']\n",
    "                                   .resample('W')\n",
    "                                   .sum()\n",
    "                                   .reset_index()\n",
    "                                   .rename(columns={'kasus_baru': 'jumlah'})\n",
    "                    )\n",
    "cov_jabar_pekanan['tahun'] = cov_jabar_pekanan['tanggal'].apply(lambda x: x.year)\n",
    "cov_jabar_pekanan['pekan_ke'] =cov_jabar_pekanan['tanggal'].apply(lambda x: x.weekofyear)\n",
    "cov_jabar_pekanan = cov_jabar_pekanan[['tahun', 'pekan_ke', 'jumlah']]\n",
    "\n",
    "print('Info cov_jabar_pekanan:')\n",
    "print(cov_jabar_pekanan.info())\n",
    "print('\\nLima data teratas cov_jabar_pekanan:\\n', cov_jabar_pekanan.head())"
   ]
  },
  {
   "cell_type": "code",
   "execution_count": 16,
   "metadata": {},
   "outputs": [
    {
     "name": "stdout",
     "output_type": "stream",
     "text": [
      "Sepuluh data teratas:\n",
      "    tahun  pekan_ke  jumlah  jumlah_pekanlalu  lebih_baik\n",
      "0   2020        10       7                 0       False\n",
      "1   2020        11       5                 7        True\n",
      "2   2020        12      52                 5       False\n",
      "3   2020        13     104                52       False\n",
      "4   2020        14     122               104       False\n",
      "5   2020        15     235               122       False\n",
      "6   2020        16     277               235       False\n",
      "7   2020        17     216               277        True\n",
      "8   2020        18     156               216        True\n",
      "9   2020        19     367               156       False\n"
     ]
    }
   ],
   "source": [
    "# Menjawab Pertanyaan\n",
    "\n",
    "# Pertanyaan baru muncul di benak Anda setelah melakukan inspeksi terhadap data cov_jabar_pekanan tersebut: \n",
    "# \"Apakah pekan ini lebih baik dari pekan kemarin?\"\n",
    "\n",
    "# Demi menjawab hal tersebut Anda melakukan kalkulasi sederhana dengan tahapan berikut:\n",
    "\n",
    "# 1. Membuat kolom baru yang berisi jumlah kasus baru dalam satu pekan sebelumnya. Kolom ini diberi nama jumlah_pekanlalu.\n",
    "# 2. Mengganti nilai NaN pada kolom jumlah_pekanlalu dengan nilai 0\n",
    "# 3. Melakukan komparasi antara kolom jumlah dengan kolom jumlah_pekanlalu. \n",
    "# Hasil komparasi ini disimpan dalam kolom baru dengan nama lebih_baik, \n",
    "# isinya adalah True apabila jumlah kasus baru pekan ini lebih rendah dibandingkan jumlah kasus pekan lalu\n",
    "\n",
    "# Lengkapilah baris predefined kode yang diberikan untuk mengerjakan tahapan yang telah Anda rencanakan! \n",
    "# Anda akan menggunakan method shift() untuk membuat kolom jumlah_pekanlalu. \n",
    "# Inspeksi hasil pekerjaan Anda dengan menggunakan head(10)!\n",
    "\n",
    "cov_jabar_pekanan['jumlah_pekanlalu'] = cov_jabar_pekanan['jumlah'].shift().replace(np.nan, 0).astype(np.int)\n",
    "cov_jabar_pekanan['lebih_baik'] = cov_jabar_pekanan['jumlah'] < cov_jabar_pekanan['jumlah_pekanlalu']\n",
    "\n",
    "print('Sepuluh data teratas:\\n', cov_jabar_pekanan.head(10))"
   ]
  },
  {
   "cell_type": "code",
   "execution_count": 18,
   "metadata": {},
   "outputs": [
    {
     "data": {
      "text/plain": [
       "<Figure size 432x288 with 0 Axes>"
      ]
     },
     "metadata": {},
     "output_type": "display_data"
    },
    {
     "data": {
      "image/png": "[encoded data removed]",
      "text/plain": [
       "<Figure size 720x360 with 1 Axes>"
      ]
     },
     "metadata": {
      "needs_background": "light"
     },
     "output_type": "display_data"
    }
   ],
   "source": [
    "# Membuat Bar Chart\n",
    "\n",
    "# Anda sungguh luar biasa! \n",
    "# Dengan menggunakan data hasil perhitungan tersebut maka sekarang Anda dapat membuat bar-chat penambahan kasus pekanan \n",
    "# yang ditambahkan informasi baru untuk menjawab pertanyaan: \"Apakah pekan ini lebih baik?\"\n",
    "\n",
    "import matplotlib.pyplot as plt\n",
    "\n",
    "plt.clf()\n",
    "fig, ax = plt.subplots(figsize=(10,5))\n",
    "ax.bar(data=cov_jabar_pekanan, x='pekan_ke', height='jumlah',\n",
    "color=['mediumseagreen' if x is True else 'salmon' for x in cov_jabar_pekanan['lebih_baik']])\n",
    "fig.suptitle('Kasus Pekanan Positif COVID-19 di Jawa Barat',\n",
    "y=1.00, fontsize=16, fontweight='bold', ha='center')\n",
    "ax.set_title('Kolom hijau menunjukan penambahan kasus baru lebih sedikit dibandingkan satu pekan sebelumnya',\n",
    "fontsize=12)\n",
    "ax.set_xlabel('')\n",
    "ax.set_ylabel('Jumlah kasus')\n",
    "ax.text(1, -0.1, 'Sumber data: covid.19.go.id', color='blue',\n",
    "ha='right', transform=ax.transAxes)\n",
    "\n",
    "plt.grid(axis='y')\n",
    "plt.tight_layout()\n",
    "plt.show()"
   ]
  },
  {
   "cell_type": "code",
   "execution_count": 19,
   "metadata": {},
   "outputs": [
    {
     "data": {
      "text/html": [
       "<div>\n",
       "<style scoped>\n",
       "    .dataframe tbody tr th:only-of-type {\n",
       "        vertical-align: middle;\n",
       "    }\n",
       "\n",
       "    .dataframe tbody tr th {\n",
       "        vertical-align: top;\n",
       "    }\n",
       "\n",
       "    .dataframe thead th {\n",
       "        text-align: right;\n",
       "    }\n",
       "</style>\n",
       "<table border=\"1\" class=\"dataframe\">\n",
       "  <thead>\n",
       "    <tr style=\"text-align: right;\">\n",
       "      <th></th>\n",
       "      <th>tanggal</th>\n",
       "      <th>akumulasi_aktif</th>\n",
       "      <th>akumulasi_sembuh</th>\n",
       "      <th>akumulasi_meninggal</th>\n",
       "    </tr>\n",
       "  </thead>\n",
       "  <tbody>\n",
       "    <tr>\n",
       "      <th>359</th>\n",
       "      <td>2021-02-24</td>\n",
       "      <td>33581</td>\n",
       "      <td>168898</td>\n",
       "      <td>2219</td>\n",
       "    </tr>\n",
       "    <tr>\n",
       "      <th>360</th>\n",
       "      <td>2021-02-25</td>\n",
       "      <td>34967</td>\n",
       "      <td>169984</td>\n",
       "      <td>2292</td>\n",
       "    </tr>\n",
       "    <tr>\n",
       "      <th>361</th>\n",
       "      <td>2021-02-26</td>\n",
       "      <td>36406</td>\n",
       "      <td>170852</td>\n",
       "      <td>2299</td>\n",
       "    </tr>\n",
       "    <tr>\n",
       "      <th>362</th>\n",
       "      <td>2021-02-27</td>\n",
       "      <td>36626</td>\n",
       "      <td>171503</td>\n",
       "      <td>2304</td>\n",
       "    </tr>\n",
       "    <tr>\n",
       "      <th>363</th>\n",
       "      <td>2021-02-28</td>\n",
       "      <td>36811</td>\n",
       "      <td>172037</td>\n",
       "      <td>2355</td>\n",
       "    </tr>\n",
       "  </tbody>\n",
       "</table>\n",
       "</div>"
      ],
      "text/plain": [
       "       tanggal  akumulasi_aktif  akumulasi_sembuh  akumulasi_meninggal\n",
       "359 2021-02-24            33581            168898                 2219\n",
       "360 2021-02-25            34967            169984                 2292\n",
       "361 2021-02-26            36406            170852                 2299\n",
       "362 2021-02-27            36626            171503                 2304\n",
       "363 2021-02-28            36811            172037                 2355"
      ]
     },
     "execution_count": 19,
     "metadata": {},
     "output_type": "execute_result"
    }
   ],
   "source": [
    "# Pola dan Dinamika\n",
    "\n",
    "# Ada yang akhirnya sembuh, namun tak sedikit pula yang meninggal akibat COVID-19. \n",
    "# Sementara itu penambahan kasus baru terus terjadi di masyarakat. Hal ini mungkin memicu pertanyaan lain di diri Anda: \n",
    "# \"Hingga saat ini ada berapa kasus yang masih aktif?\"\n",
    "\n",
    "# Aktif dalam artian sedang dalam perawatan atau isolasi.\n",
    "\n",
    "# Informasi ini sebenarnya telah disediakan di dalam respon API covid19.go.id yang Anda minta. \n",
    "# Namun tidak ada salahnya jika Anda mencoba menghitungnya sendiri, apakah Anda setuju?\n",
    "\n",
    "# Jumlah kasus aktif dapat dihitung dengan cara mengurangi jumlah akumulasi positif dengan jumlah akumulasi sembuh dan jumlah akumulasi meninggal. \n",
    "# Anda dapat menggunakan method cumsum() untuk menghitung nilai akumulasi dari suatu vektor numerik. \n",
    "# Lengkapilah baris kode berikut untuk menghitung jumlah akumulasi kasus aktif, kasus sembuh, dan kasus meninggal!\n",
    "\n",
    "cov_jabar_akumulasi = cov_jabar_tidy[['tanggal']].copy()\n",
    "cov_jabar_akumulasi['akumulasi_aktif'] = (cov_jabar_tidy['kasus_baru'] - cov_jabar_tidy['sembuh'] - cov_jabar_tidy['meninggal']).cumsum()\n",
    "cov_jabar_akumulasi['akumulasi_sembuh'] = cov_jabar_tidy['sembuh'].cumsum()\n",
    "cov_jabar_akumulasi['akumulasi_meninggal'] = cov_jabar_tidy['meninggal'].cumsum()\n",
    "cov_jabar_akumulasi.tail()"
   ]
  },
  {
   "cell_type": "code",
   "execution_count": 20,
   "metadata": {},
   "outputs": [
    {
     "data": {
      "text/plain": [
       "<Figure size 432x288 with 0 Axes>"
      ]
     },
     "metadata": {},
     "output_type": "display_data"
    },
    {
     "data": {
      "image/png": "[encoded data removed]",
      "text/plain": [
       "<Figure size 720x360 with 1 Axes>"
      ]
     },
     "metadata": {
      "needs_background": "light"
     },
     "output_type": "display_data"
    }
   ],
   "source": [
    "# Membuat Line Chart\n",
    "\n",
    "# Sekarang cobalah Anda buat line-chart pola kasus aktif dengan menggunakan method plot pada ax\n",
    "\n",
    "import matplotlib.pyplot as plt\n",
    "import matplotlib.dates as mdates\n",
    "\n",
    "plt.clf()\n",
    "fig, ax = plt.subplots(figsize=(10,5))\n",
    "ax.plot('tanggal', 'akumulasi_aktif', data=cov_jabar_akumulasi, lw=2)\n",
    "\n",
    "ax.set_title('Akumulasi aktif COVID-19 di Jawa Barat',\n",
    "             fontsize=22)\n",
    "ax.set_xlabel('')\n",
    "ax.set_ylabel('Akumulasi aktif')\n",
    "ax.text(1, -0.1, 'Sumber data: covid.19.go.id', color='blue',\n",
    "        ha='right', transform=ax.transAxes)\n",
    "\n",
    "ax.xaxis.set_major_locator(mdates.MonthLocator())\n",
    "ax.xaxis.set_major_formatter(mdates.DateFormatter('%b %Y'))\n",
    "\n",
    "plt.grid()\n",
    "plt.tight_layout()\n",
    "plt.show()"
   ]
  },
  {
   "cell_type": "code",
   "execution_count": null,
   "metadata": {},
   "outputs": [],
   "source": []
  }
 ],
 "metadata": {
  "kernelspec": {
   "display_name": "Python 3",
   "language": "python",
   "name": "python3"
  },
  "language_info": {
   "codemirror_mode": {
    "name": "ipython",
    "version": 3
   },
   "file_extension": ".py",
   "mimetype": "text/x-python",
   "name": "python",
   "nbconvert_exporter": "python",
   "pygments_lexer": "ipython3",
   "version": "3.7.6"
  }
 },
 "nbformat": 4,
 "nbformat_minor": 4
}
