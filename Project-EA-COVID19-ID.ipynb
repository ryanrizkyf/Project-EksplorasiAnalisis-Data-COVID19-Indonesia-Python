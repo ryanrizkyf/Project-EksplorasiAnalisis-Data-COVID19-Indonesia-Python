{
 "cells": [
  {
   "cell_type": "code",
   "execution_count": 1,
   "metadata": {},
   "outputs": [],
   "source": [
    "# Mengakses API covid19.go.id\n",
    "\n",
    "# Rekapitulasi data COVID-19 Indonesia tersedia dalam API publik yang beralamat di \n",
    "# https://data.covid19.go.id/public/api/update.json.\n",
    "\n",
    "# Salah satu cara untuk mengakses API adalah dengan menggunakan fungsi get() dari library requests.\n",
    "\n",
    "# Sekarang aktifkanlah library requests dan jalankan fungsi get() pada alamat API yang telah disebutkan! \n",
    "# Simpan hasil fungsi tersebut dalam obyek bernama resp.\n",
    "\n",
    "import requests\n",
    "resp = requests.get('https://data.covid19.go.id/public/api/update.json')\n",
    "\n",
    "# Saat Anda menjalankan fungsi get(), pada dasarnya hal yang terjadi adalah Anda membuat sebuah permintaan kepada server penyedia API. \n",
    "# Permintaan Anda tersebut selanjutnya diproses dan dijawab oleh server sebagai sebuah respon. \n",
    "# Objek resp yang telah Anda buat memiliki informasi respon oleh server.\n",
    "\n",
    "# Ada tiga informasi utama dalam sebuah respon API, yaitu status, headers, dan body. \n",
    "# Status memiliki informasi apakah permintaan Anda berhasil atau tidak dan dinyatakan dalam status code, \n",
    "# headers umumnya mengandung informasi metadata, sedangkan body berisikan konten atas permintaan yang telah dibuat."
   ]
  },
  {
   "cell_type": "code",
   "execution_count": 2,
   "metadata": {},
   "outputs": [
    {
     "name": "stdout",
     "output_type": "stream",
     "text": [
      "<Response [200]>\n"
     ]
    }
   ],
   "source": [
    "# Status Code\n",
    "\n",
    "# Ada beberapa jenis status code yang umumnya dijumpai, antara lain:\n",
    "\n",
    "# 200 Artinya permintaan sukses dipenuhi.\n",
    "# 404 Artinya berkas yang diminta tidak dapat ditemukan.\n",
    "# 500 Artinya akses permintaan ditolak.\n",
    "# 501 Artinya terjadi kesalahan pada server.\n",
    "\n",
    "# Informasi lengkap mengenai jenis-jenis status code dapat Anda pelajari di https://restfulapi.net/http-status-codes/\n",
    "\n",
    "# Anda dapat mencetak resp secara langsung yang telah memberikan output status atas permintaan Anda melalui API. \n",
    "# Sekarang coba lihatlah status atas permintaan yang telah Anda buat! Apakah permintaan Anda berhasil?\n",
    "\n",
    "print(resp)"
   ]
  },
  {
   "cell_type": "code",
   "execution_count": 3,
   "metadata": {},
   "outputs": [
    {
     "name": "stdout",
     "output_type": "stream",
     "text": [
      "{'Server': 'nginx', 'Date': 'Wed, 03 Mar 2021 10:59:05 GMT', 'Content-Type': 'application/json', 'Transfer-Encoding': 'chunked', 'Connection': 'keep-alive', 'Vary': 'Accept-Encoding, Accept-Encoding', 'Last-Modified': 'Wed, 03 Mar 2021 10:55:01 GMT', 'ETag': 'W/\"603f6b05-2272b\"', 'X-Content-Type-Options': 'nosniff, nosniff', 'X-XSS-Protection': '1; mode=block, 1; mode=block', 'Strict-Transport-Security': 'max-age=31536000; includeSubDomains; preload', 'Content-Encoding': 'gzip'}\n"
     ]
    }
   ],
   "source": [
    "# Headers API\n",
    "\n",
    "# Selamat status permintaan Anda melalui API sukses dipenuhi! \n",
    "#Sekarang cobalah Anda jalankan attribut headers pada resp untuk mengetahui metadata apa saja yang tersimpan. \n",
    "# Tampilkan dengan menggunakan fungsi print. \n",
    "\n",
    "# Apakah isi dari elemen content-type?\n",
    "# Kapan terakhir kali informasi diperbaharui?\n",
    "\n",
    "print(resp.headers)"
   ]
  },
  {
   "cell_type": "code",
   "execution_count": 4,
   "metadata": {},
   "outputs": [],
   "source": [
    "# Mengekstrak Isi Respon\n",
    "\n",
    "# Respon API dengan status code 200 menyatakan bahwa permintaan Anda berhasil dipenuhi dan konten yang diminta tersedia untuk diekstrak. \n",
    "# Selain itu Anda juga telah mengetahui lewat attribut headers bahwa konten yang diminta tersedia dalam bentuk application/json, yaitu berkas JSON.\n",
    "\n",
    "# Selanjutnya Anda dapat mengekstrak konten tersebut dengan menggunakan method json(). \n",
    "# Method json() merupakan builtin JSON decoder untuk mengekstrak content bertipe JSON. \n",
    "# Anda juga dapat menggunakan attribut content tetapi ini berupa binary content yang perlu Anda proses kembali nantinya. \n",
    "# Jalankan method json() pada obyek resp dan simpanlah hasilnya sebagai cov_id_raw!\n",
    "\n",
    "# cov_id_raw ini bertipe data dict.\n",
    "\n",
    "cov_id_raw = resp.json()"
   ]
  },
  {
   "cell_type": "code",
   "execution_count": 5,
   "metadata": {},
   "outputs": [
    {
     "name": "stdout",
     "output_type": "stream",
     "text": [
      "Length of cov_id_raw : 2.\n",
      "Komponen cov_id_raw  : dict_keys(['data', 'update']).\n"
     ]
    }
   ],
   "source": [
    "# Mengekstrak isi Respon - 2\n",
    "\n",
    "# Dengan menggunakan fungsi len() dan method keys() cobalah amati ada berapa komponen serta apa saja nama komponen dalam obyek cov_id_raw tersebut! \n",
    "# Kemudian ekstraklah key ke-2 dan simpan dengan nama cov_id_update.\n",
    "\n",
    "print('Length of cov_id_raw : %d.' %len(cov_id_raw))\n",
    "print('Komponen cov_id_raw  : %s.' %cov_id_raw.keys())\n",
    "cov_id_update = cov_id_raw['update']"
   ]
  },
  {
   "cell_type": "code",
   "execution_count": 6,
   "metadata": {},
   "outputs": [
    {
     "name": "stdout",
     "output_type": "stream",
     "text": [
      "Tanggal pembaharuan data penambahan kasus   : 2021-03-03\n",
      "Jumlah penambahan kasus sembuh   : 9053\n",
      "Jumlah penambahan kasus meninggal   : 203\n",
      "Jumlah total kasus positif hingga saat ini   : 1353834\n",
      "Jumlah total kasus meninggal hingga saat ini  : 36721\n"
     ]
    }
   ],
   "source": [
    "# Analisa Data\n",
    "\n",
    "# Sekarang Anda diminta untuk fokus pada obyek cov_id_update untuk menjawab pertanyaan-pertanyaan berikut:\n",
    "\n",
    "# Kapan tanggal pembaharuan data penambahan kasus?\n",
    "# Berapa jumlah penambahan kasus sembuh?\n",
    "# Berapa jumlah penambahan kasus meninggal?\n",
    "# Berapa jumlah total kasus positif hingga saat ini?\n",
    "# Berapa jumlah total kasus meninggal hingga saat ini?\n",
    "\n",
    "print('Tanggal pembaharuan data penambahan kasus   :', cov_id_update['penambahan']['tanggal'])\n",
    "print('Jumlah penambahan kasus sembuh   :', cov_id_update['penambahan']['jumlah_sembuh'])\n",
    "print('Jumlah penambahan kasus meninggal   :', cov_id_update['penambahan']['jumlah_meninggal'])\n",
    "print('Jumlah total kasus positif hingga saat ini   :', cov_id_update['total']['jumlah_positif'])\n",
    "print('Jumlah total kasus meninggal hingga saat ini  :', cov_id_update['total']['jumlah_meninggal'])"
   ]
  },
  {
   "cell_type": "code",
   "execution_count": 7,
   "metadata": {},
   "outputs": [],
   "source": [
    "# Apa Kabar Jawa Barat?\n",
    "\n",
    "# Anda telah berhasil menjawab pertanyaan mengenai kondisi COVID-19 di Indonesia dengan menggunakan data yang langsung diambil menggunakan API. \n",
    "# Namun bagaimana jika Anda ingin berfokus dengan data COVID-19 di provinsi tempat menetap saat ini?\n",
    "\n",
    "# covid19.go.id menyediakan data kasus COVID-19 tingkat provinsi di alamat API yang berbeda. \n",
    "# Sebagai data mengenai COVID-19 Jawa Barat, tempat tinggal saya sekarang, tersedia di \n",
    "# https://data.covid19.go.id/public/api/prov_detail_JAWA_BARAT.json.\n",
    "\n",
    "import requests\n",
    "resp_jabar = requests.get('https://data.covid19.go.id/public/api/prov_detail_JAWA_BARAT.json')\n",
    "cov_jabar_raw = resp_jabar.json()"
   ]
  },
  {
   "cell_type": "code",
   "execution_count": 8,
   "metadata": {},
   "outputs": [
    {
     "name": "stdout",
     "output_type": "stream",
     "text": [
      "Nama-nama elemen utama:\n",
      " dict_keys(['last_date', 'provinsi', 'kasus_total', 'kasus_tanpa_tgl', 'kasus_dengan_tgl', 'meninggal_persen', 'meninggal_tanpa_tgl', 'meninggal_dengan_tgl', 'sembuh_persen', 'sembuh_tanpa_tgl', 'sembuh_dengan_tgl', 'list_perkembangan', 'data'])\n",
      "\n",
      "Jumlah total kasus COVID-19 di Jawa Barat                 : 211212\n",
      "Persentase kematian akibat COVID-19 di Jawa Barat         : 1.117834.2%\n",
      "Persentase tingkat kesembuhan dari COVID-19 di Jawa Barat : 81.458913.2%\n"
     ]
    }
   ],
   "source": [
    "# Memahami Kasus COVID-19 di Jawa Barat\n",
    "\n",
    "# Sekarang jalankanlah method keys() pada cov_jabar_raw tersebut untuk mengetahui nama-nama elemen utama yang tersedia dan jawablah pertanyaan berikut:\n",
    "\n",
    "# Berapa jumlah total kasus COVID-19 di Jawa Barat?\n",
    "# Berapa persentase kematian akibat COVID-19 di Jawa Barat?\n",
    "# Berapa persentase tingkat kesembuhan dari COVID-19 di Jawa Barat?\n",
    "\n",
    "print('Nama-nama elemen utama:\\n', cov_jabar_raw.keys())\n",
    "print('\\nJumlah total kasus COVID-19 di Jawa Barat                 : %d' %cov_jabar_raw['kasus_total'])\n",
    "print('Persentase kematian akibat COVID-19 di Jawa Barat         : %f.2%%' %cov_jabar_raw['meninggal_persen'])\n",
    "print('Persentase tingkat kesembuhan dari COVID-19 di Jawa Barat : %f.2%%' %cov_jabar_raw['sembuh_persen'])"
   ]
  },
  {
   "cell_type": "code",
   "execution_count": 9,
   "metadata": {},
   "outputs": [
    {
     "name": "stdout",
     "output_type": "stream",
     "text": [
      "<class 'pandas.core.frame.DataFrame'>\n",
      "RangeIndex: 364 entries, 0 to 363\n",
      "Data columns (total 9 columns):\n",
      " #   Column                        Non-Null Count  Dtype\n",
      "---  ------                        --------------  -----\n",
      " 0   tanggal                       364 non-null    int64\n",
      " 1   KASUS                         364 non-null    int64\n",
      " 2   MENINGGAL                     364 non-null    int64\n",
      " 3   SEMBUH                        364 non-null    int64\n",
      " 4   DIRAWAT_OR_ISOLASI            364 non-null    int64\n",
      " 5   AKUMULASI_KASUS               364 non-null    int64\n",
      " 6   AKUMULASI_SEMBUH              364 non-null    int64\n",
      " 7   AKUMULASI_MENINGGAL           364 non-null    int64\n",
      " 8   AKUMULASI_DIRAWAT_OR_ISOLASI  364 non-null    int64\n",
      "dtypes: int64(9)\n",
      "memory usage: 25.7 KB\n",
      "Info cov_jabar:\n",
      " None\n",
      "\n",
      "Lima data teratas cov_jabar:\n",
      "          tanggal  KASUS  MENINGGAL  SEMBUH  DIRAWAT_OR_ISOLASI  \\\n",
      "0  1583107200000      3          0       0                   3   \n",
      "1  1583193600000      1          1       0                   0   \n",
      "2  1583280000000      1          0       0                   1   \n",
      "3  1583366400000      1          0       0                   1   \n",
      "4  1583452800000      1          0       0                   1   \n",
      "\n",
      "   AKUMULASI_KASUS  AKUMULASI_SEMBUH  AKUMULASI_MENINGGAL  \\\n",
      "0                3                 0                    0   \n",
      "1                4                 0                    1   \n",
      "2                5                 0                    1   \n",
      "3                6                 0                    1   \n",
      "4                7                 0                    1   \n",
      "\n",
      "   AKUMULASI_DIRAWAT_OR_ISOLASI  \n",
      "0                             3  \n",
      "1                             3  \n",
      "2                             4  \n",
      "3                             5  \n",
      "4                             6  \n"
     ]
    }
   ],
   "source": [
    "# Memperoleh Informasi yang Lebih Lengkap\n",
    "\n",
    "# Informasi umum mengenai COVID-19 di Jawa Barat telah Anda dapatkan. \n",
    "# Namun informasi akan lebih lengkap jika Anda memiliki data perkembangan COVID-19 dari waktu ke waktu, apakah Anda setuju?\n",
    "\n",
    "# Kabar baiknya adalah informasi tersebut juga disediakan oleh covid19.go.id melalui permintaan API yang telah Anda buat sebelumnya. \n",
    "# Data historis perkembangan COVID-19 tersebut tersimpan dengan nama list_perkembangan. \n",
    "# Silakan Anda ekstrak data tersebut dari cov_jabar_raw dan untuk lebih memudahkan dalam menginspeksi data ubahlah data bertipe dict ke pandas dataframe. \n",
    "# Kemudian simpanlah hasilnya sebagai obyek bernama cov_jabar! Amati struktur cov_jabar menggunakan method info() dan head().\n",
    "\n",
    "import numpy as np\n",
    "import pandas as pd\n",
    "cov_jabar = pd.DataFrame(cov_jabar_raw['list_perkembangan'])\n",
    "print('Info cov_jabar:\\n', cov_jabar.info())\n",
    "print('\\nLima data teratas cov_jabar:\\n', cov_jabar.head())"
   ]
  },
  {
   "cell_type": "code",
   "execution_count": 10,
   "metadata": {},
   "outputs": [
    {
     "name": "stdout",
     "output_type": "stream",
     "text": [
      "Lima data teratas:\n",
      "      tanggal  kasus_baru  meninggal  sembuh\n",
      "0 2020-03-02           3          0       0\n",
      "1 2020-03-03           1          1       0\n",
      "2 2020-03-04           1          0       0\n",
      "3 2020-03-05           1          0       0\n",
      "4 2020-03-06           1          0       0\n"
     ]
    }
   ],
   "source": [
    "# Menjinakkan Data\n",
    "\n",
    "# Setelah mengekstrak dan mengamati cov_jabar, Anda menemukan beberapa kejanggalan pada data tersebut. \n",
    "# Diantaranya adalah kejanggalan data pada kolom tanggal dan format penulisan kolom yang tidak konsisten. \n",
    "# Sekarang Anda akan mencoba melakukan beberapa tahapan untuk menjinakan data tersebut sehingga dapat diolah dan dianalisis dengan lebih mudah.\n",
    "\n",
    "# Ada beberapa tahapan yang akan Anda lakukan untuk menjinakan data cov_jabar, yaitu:\n",
    "\n",
    "# Menghapus kolom DIRAWAT_OR_ISOLASI dan semua kolom yang berisi nilai kumulatif\n",
    "# Merubah format penulisan semua kolom menjadi huruf kecil\n",
    "# Mengganti nama kolom kasus menjadi kasus_baru\n",
    "# Memperbaiki tipe data pada kolom tanggal menggunakan pd.to_datetime\n",
    "\n",
    "# Lengkapilah baris kode berikut untuk melakukan menjinakan data sesuai dengan tahapan yang telah Anda rencanakan! \n",
    "# Anda akan menggunakan teknik chaining pada dataframe. \n",
    "# Simpan hasil pengolahan Anda dengan nama cov_jabar_tidy.\n",
    "\n",
    "cov_jabar_tidy = (cov_jabar.drop(columns=[item for item in cov_jabar.columns \n",
    "                                               if item.startswith('AKUMULASI') \n",
    "                                                  or item.startswith('DIRAWAT')])\n",
    "                           .rename(columns=str.lower)\n",
    "                           .rename(columns={'kasus': 'kasus_baru'})\n",
    "                  )\n",
    "cov_jabar_tidy['tanggal'] = pd.to_datetime(cov_jabar_tidy['tanggal']*1e6, unit='ns')\n",
    "print('Lima data teratas:\\n', cov_jabar_tidy.head())"
   ]
  },
  {
   "cell_type": "code",
   "execution_count": null,
   "metadata": {},
   "outputs": [],
   "source": []
  }
 ],
 "metadata": {
  "kernelspec": {
   "display_name": "Python 3",
   "language": "python",
   "name": "python3"
  },
  "language_info": {
   "codemirror_mode": {
    "name": "ipython",
    "version": 3
   },
   "file_extension": ".py",
   "mimetype": "text/x-python",
   "name": "python",
   "nbconvert_exporter": "python",
   "pygments_lexer": "ipython3",
   "version": "3.7.6"
  }
 },
 "nbformat": 4,
 "nbformat_minor": 4
}
