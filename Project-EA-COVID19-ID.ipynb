{
 "cells": [
  {
   "cell_type": "code",
   "execution_count": 5,
   "metadata": {},
   "outputs": [],
   "source": [
    "# Mengakses API covid19.go.id\n",
    "\n",
    "# Rekapitulasi data COVID-19 Indonesia tersedia dalam API publik yang beralamat di \n",
    "# https://data.covid19.go.id/public/api/update.json.\n",
    "\n",
    "# Salah satu cara untuk mengakses API adalah dengan menggunakan fungsi get() dari library requests.\n",
    "\n",
    "# Sekarang aktifkanlah library requests dan jalankan fungsi get() pada alamat API yang telah disebutkan! \n",
    "# Simpan hasil fungsi tersebut dalam obyek bernama resp.\n",
    "\n",
    "import requests\n",
    "resp = requests.get('https://data.covid19.go.id/public/api/update.json')\n",
    "\n",
    "# Saat Anda menjalankan fungsi get(), pada dasarnya hal yang terjadi adalah Anda membuat sebuah permintaan kepada server penyedia API. \n",
    "# Permintaan Anda tersebut selanjutnya diproses dan dijawab oleh server sebagai sebuah respon. \n",
    "# Objek resp yang telah Anda buat memiliki informasi respon oleh server.\n",
    "\n",
    "# Ada tiga informasi utama dalam sebuah respon API, yaitu status, headers, dan body. \n",
    "# Status memiliki informasi apakah permintaan Anda berhasil atau tidak dan dinyatakan dalam status code, \n",
    "# headers umumnya mengandung informasi metadata, sedangkan body berisikan konten atas permintaan yang telah dibuat."
   ]
  },
  {
   "cell_type": "code",
   "execution_count": 6,
   "metadata": {},
   "outputs": [
    {
     "name": "stdout",
     "output_type": "stream",
     "text": [
      "<Response [200]>\n"
     ]
    }
   ],
   "source": [
    "# Status Code\n",
    "\n",
    "# Ada beberapa jenis status code yang umumnya dijumpai, antara lain:\n",
    "\n",
    "# 200 Artinya permintaan sukses dipenuhi.\n",
    "# 404 Artinya berkas yang diminta tidak dapat ditemukan.\n",
    "# 500 Artinya akses permintaan ditolak.\n",
    "# 501 Artinya terjadi kesalahan pada server.\n",
    "\n",
    "# Informasi lengkap mengenai jenis-jenis status code dapat Anda pelajari di https://restfulapi.net/http-status-codes/\n",
    "\n",
    "# Anda dapat mencetak resp secara langsung yang telah memberikan output status atas permintaan Anda melalui API. \n",
    "# Sekarang coba lihatlah status atas permintaan yang telah Anda buat! Apakah permintaan Anda berhasil?\n",
    "\n",
    "print(resp)"
   ]
  },
  {
   "cell_type": "code",
   "execution_count": 7,
   "metadata": {},
   "outputs": [
    {
     "name": "stdout",
     "output_type": "stream",
     "text": [
      "{'Server': 'nginx', 'Date': 'Wed, 03 Mar 2021 09:16:49 GMT', 'Content-Type': 'application/json', 'Transfer-Encoding': 'chunked', 'Connection': 'keep-alive', 'Vary': 'Accept-Encoding, Accept-Encoding', 'Last-Modified': 'Wed, 03 Mar 2021 09:14:57 GMT', 'ETag': 'W/\"603f5391-225a3\"', 'X-Content-Type-Options': 'nosniff, nosniff', 'X-XSS-Protection': '1; mode=block, 1; mode=block', 'Strict-Transport-Security': 'max-age=31536000; includeSubDomains; preload', 'Content-Encoding': 'gzip'}\n"
     ]
    }
   ],
   "source": [
    "# Headers API\n",
    "\n",
    "# Selamat status permintaan Anda melalui API sukses dipenuhi! \n",
    "#Sekarang cobalah Anda jalankan attribut headers pada resp untuk mengetahui metadata apa saja yang tersimpan. \n",
    "# Tampilkan dengan menggunakan fungsi print. \n",
    "\n",
    "# Apakah isi dari elemen content-type?\n",
    "# Kapan terakhir kali informasi diperbaharui?\n",
    "\n",
    "print(resp.headers)"
   ]
  },
  {
   "cell_type": "code",
   "execution_count": null,
   "metadata": {},
   "outputs": [],
   "source": []
  }
 ],
 "metadata": {
  "kernelspec": {
   "display_name": "Python 3",
   "language": "python",
   "name": "python3"
  },
  "language_info": {
   "codemirror_mode": {
    "name": "ipython",
    "version": 3
   },
   "file_extension": ".py",
   "mimetype": "text/x-python",
   "name": "python",
   "nbconvert_exporter": "python",
   "pygments_lexer": "ipython3",
   "version": "3.7.6"
  }
 },
 "nbformat": 4,
 "nbformat_minor": 4
}
